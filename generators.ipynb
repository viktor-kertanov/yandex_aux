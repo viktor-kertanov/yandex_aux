{
 "cells": [
  {
   "cell_type": "code",
   "execution_count": 2,
   "metadata": {},
   "outputs": [],
   "source": [
    "def gen_range(stop_value):\n",
    "    stop_value -= 1\n",
    "    current = -1\n",
    "    while current < stop_value:\n",
    "        current += 1\n",
    "        yield current"
   ]
  },
  {
   "cell_type": "code",
   "execution_count": 3,
   "metadata": {},
   "outputs": [
    {
     "name": "stdout",
     "output_type": "stream",
     "text": [
      "0\n",
      "1\n",
      "2\n"
     ]
    }
   ],
   "source": [
    "for x in gen_range(3):\n",
    "    print(x)"
   ]
  },
  {
   "cell_type": "code",
   "execution_count": 8,
   "metadata": {},
   "outputs": [],
   "source": [
    "def simple_generator():\n",
    "    yield 1\n",
    "    yield 2\n",
    "    return 'bloom'"
   ]
  },
  {
   "cell_type": "code",
   "execution_count": 9,
   "metadata": {},
   "outputs": [
    {
     "name": "stdout",
     "output_type": "stream",
     "text": [
      "1\n",
      "2\n"
     ]
    },
    {
     "ename": "StopIteration",
     "evalue": "bloom",
     "output_type": "error",
     "traceback": [
      "\u001b[0;31m---------------------------------------------------------------------------\u001b[0m",
      "\u001b[0;31mStopIteration\u001b[0m                             Traceback (most recent call last)",
      "Cell \u001b[0;32mIn[9], line 4\u001b[0m\n\u001b[1;32m      2\u001b[0m \u001b[39mprint\u001b[39m(\u001b[39mnext\u001b[39m(gen))\n\u001b[1;32m      3\u001b[0m \u001b[39mprint\u001b[39m(\u001b[39mnext\u001b[39m(gen))\n\u001b[0;32m----> 4\u001b[0m \u001b[39mprint\u001b[39m(\u001b[39mnext\u001b[39;49m(gen))\n",
      "\u001b[0;31mStopIteration\u001b[0m: bloom"
     ]
    }
   ],
   "source": [
    "gen = simple_generator()\n",
    "print(next(gen))\n",
    "print(next(gen))\n",
    "print(next(gen))"
   ]
  },
  {
   "cell_type": "code",
   "execution_count": 10,
   "metadata": {},
   "outputs": [
    {
     "name": "stdout",
     "output_type": "stream",
     "text": [
      "<generator object <genexpr> at 0x10ab41700>\n"
     ]
    }
   ],
   "source": [
    "gen_expr = (x**2 for x in range(10))\n",
    "\n",
    "print(gen_expr)"
   ]
  },
  {
   "cell_type": "code",
   "execution_count": 11,
   "metadata": {},
   "outputs": [
    {
     "name": "stdout",
     "output_type": "stream",
     "text": [
      "0\n",
      "1\n",
      "4\n",
      "9\n",
      "16\n",
      "25\n",
      "36\n",
      "49\n",
      "64\n",
      "81\n"
     ]
    }
   ],
   "source": [
    "for el in gen_expr:\n",
    "    print(el)"
   ]
  },
  {
   "cell_type": "code",
   "execution_count": 14,
   "metadata": {},
   "outputs": [
    {
     "name": "stdout",
     "output_type": "stream",
     "text": [
      "0\n",
      "1\n",
      "8\n",
      "Hello world! You cant exhause an exhausted generator\n"
     ]
    }
   ],
   "source": [
    "g_expr = (x**3 for x in range(3))\n",
    "for el in g_expr:\n",
    "    print(el)\n",
    "\n",
    "print('Hello world! You cant exhaust an exhausted generator')\n",
    "\n",
    "for el in g_expr:\n",
    "    print(el)"
   ]
  },
  {
   "cell_type": "code",
   "execution_count": 16,
   "metadata": {},
   "outputs": [
    {
     "name": "stdout",
     "output_type": "stream",
     "text": [
      "1\n",
      "2\n",
      "3\n"
     ]
    }
   ],
   "source": [
    "def func(numbers):\n",
    "    for item in numbers:\n",
    "        yield(item)\n",
    "\n",
    "for item in func([1,2,3]):\n",
    "    print(item)"
   ]
  },
  {
   "cell_type": "code",
   "execution_count": 18,
   "metadata": {},
   "outputs": [
    {
     "name": "stdout",
     "output_type": "stream",
     "text": [
      "0\n",
      "1\n",
      "2\n",
      "3\n",
      "4\n",
      "5\n",
      "6\n",
      "7\n",
      "8\n",
      "9\n"
     ]
    }
   ],
   "source": [
    "def func(numbers):\n",
    "    yield from numbers\n",
    "\n",
    "for item in func(range(10)):\n",
    "    print(item)\n"
   ]
  },
  {
   "attachments": {},
   "cell_type": "markdown",
   "metadata": {},
   "source": [
    "# COUROUTINES"
   ]
  },
  {
   "cell_type": "code",
   "execution_count": 34,
   "metadata": {},
   "outputs": [
    {
     "name": "stdout",
     "output_type": "stream",
     "text": [
      "Hello, 666\n",
      "Generator has finished its work!\n"
     ]
    }
   ],
   "source": [
    "def coro():\n",
    "    val = (yield)\n",
    "    print(f\"Hello, {val*2}\")\n",
    "\n",
    "c = coro()\n",
    "next(c)\n",
    "try:\n",
    "    c.send(333)\n",
    "    c.close()\n",
    "except StopIteration:\n",
    "    print(f\"Generator has finished its work!\")\n"
   ]
  },
  {
   "cell_type": "code",
   "execution_count": 37,
   "metadata": {},
   "outputs": [],
   "source": [
    "import math\n",
    "from typing import Generator\n",
    "\n",
    "def cash_return(deposit: int, percent: float, years: int) -> float:\n",
    "    value = math.pow(1 + percent/100, years)\n",
    "    \n",
    "    return round(deposit * value, 2)"
   ]
  },
  {
   "cell_type": "code",
   "execution_count": 36,
   "metadata": {},
   "outputs": [
    {
     "data": {
      "text/plain": [
       "1276281.56"
      ]
     },
     "execution_count": 36,
     "metadata": {},
     "output_type": "execute_result"
    }
   ],
   "source": [
    "cash_return(1000000, 5, 5)"
   ]
  },
  {
   "cell_type": "code",
   "execution_count": 56,
   "metadata": {},
   "outputs": [],
   "source": [
    "def cash_return_coro(percent: float, years: int) -> Generator[float, int, None]:\n",
    "    value = math.pow(1 + percent/100, years)\n",
    "    while True:\n",
    "        try:\n",
    "            deposit = (yield)\n",
    "            yield round(deposit * value, 2)\n",
    "        except GeneratorExit:\n",
    "            print('Exiting the coroutine, bam!')\n",
    "            raise"
   ]
  },
  {
   "cell_type": "code",
   "execution_count": 58,
   "metadata": {},
   "outputs": [
    {
     "name": "stdout",
     "output_type": "stream",
     "text": [
      "Exiting the coroutine, bam!\n",
      "Input sum: 1000. End value: 1276.28\n",
      "Input sum: 2000. End value: 2552.56\n",
      "Input sum: 5000. End value: 6381.41\n",
      "Input sum: 10000. End value: 12762.82\n",
      "Input sum: 100000. End value: 127628.16\n"
     ]
    }
   ],
   "source": [
    "coro = cash_return_coro(5, 5)\n",
    "next(coro)\n",
    "values = [1000, 2000, 5000, 10000, 100000]\n",
    "\n",
    "for item in values:\n",
    "    print(f\"Input sum: {item}. End value: {coro.send(item)}\")\n",
    "    next(coro)\n"
   ]
  },
  {
   "cell_type": "code",
   "execution_count": null,
   "metadata": {},
   "outputs": [],
   "source": []
  },
  {
   "cell_type": "code",
   "execution_count": null,
   "metadata": {},
   "outputs": [],
   "source": []
  }
 ],
 "metadata": {
  "kernelspec": {
   "display_name": "env",
   "language": "python",
   "name": "python3"
  },
  "language_info": {
   "codemirror_mode": {
    "name": "ipython",
    "version": 3
   },
   "file_extension": ".py",
   "mimetype": "text/x-python",
   "name": "python",
   "nbconvert_exporter": "python",
   "pygments_lexer": "ipython3",
   "version": "3.10.0"
  },
  "orig_nbformat": 4
 },
 "nbformat": 4,
 "nbformat_minor": 2
}
